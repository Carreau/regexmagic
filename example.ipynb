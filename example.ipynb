{
 "metadata": {
  "name": ""
 },
 "nbformat": 3,
 "nbformat_minor": 0,
 "worksheets": [
  {
   "cells": [
    {
     "cell_type": "code",
     "collapsed": false,
     "input": [
      "%reload_ext regexmagic"
     ],
     "language": "python",
     "metadata": {},
     "outputs": [],
     "prompt_number": 2
    },
    {
     "cell_type": "code",
     "collapsed": false,
     "input": [
      "%%matchlines a+b\n",
      "xyz\n",
      "aaabxx\n",
      "xabbbx\n",
      "xyzab\n",
      "xabxabx"
     ],
     "language": "python",
     "metadata": {},
     "outputs": [
      {
       "html": [
        "<font color=\"purple\"><strong><em>a+b</em></strong></font>\n",
        "<br/><font color=\"gray\">xyz</font>\n",
        "<br/><font color=\"DarkGreen\"><u>aaab</u></font><font color=\"gray\">xx</font>\n",
        "<br/>x<font color=\"DarkRed\"><u>ab</u></font><font color=\"gray\">bbx</font>\n",
        "<br/>xyz<font color=\"DarkGreen\"><u>ab</u></font><font color=\"gray\"></font>\n",
        "<br/>x<font color=\"DarkRed\"><u>ab</u></font>x<font color=\"DarkGreen\"><u>ab</u></font><font color=\"gray\">x</font>"
       ],
       "metadata": {},
       "output_type": "display_data",
       "text": [
        "<IPython.core.display.HTML at 0x1023c9150>"
       ]
      }
     ],
     "prompt_number": 3
    },
    {
     "cell_type": "code",
     "collapsed": false,
     "input": [
      "%%matchlines /\\w+ \\d+, \\d+/\n",
      "Site/Date/Evil\n",
      "Davison/May 22, 2010/1721.3\n",
      "Pertwee/May 24, 2010/2103.8"
     ],
     "language": "python",
     "metadata": {},
     "outputs": [
      {
       "html": [
        "<font color=\"purple\"><strong><em>/\\w+ \\d+, \\d+/</em></strong></font>\n",
        "<br/><font color=\"gray\">Site/Date/Evil</font>\n",
        "<br/>Davison<font color=\"DarkGreen\"><u>/May 22, 2010/</u></font><font color=\"gray\">1721.3</font>\n",
        "<br/>Pertwee<font color=\"DarkRed\"><u>/May 24, 2010/</u></font><font color=\"gray\">2103.8</font>"
       ],
       "metadata": {},
       "output_type": "display_data",
       "text": [
        "<IPython.core.display.HTML at 0x1023c9150>"
       ]
      }
     ],
     "prompt_number": 4
    },
    {
     "cell_type": "code",
     "collapsed": false,
     "input": [
      "%%matchlines /\\w{{4}} \\d+, \\d+/\n",
      "Site/Date/Evil\n",
      "Davison/May 22, 2010/1721.3\n",
      "Pertwee/June 24, 2010/2103.8"
     ],
     "language": "python",
     "metadata": {},
     "outputs": [
      {
       "html": [
        "<font color=\"purple\"><strong><em>/\\w{4} \\d+, \\d+/</em></strong></font>\n",
        "<br/><font color=\"gray\">Site/Date/Evil</font>\n",
        "<br/><font color=\"gray\">Davison/May 22, 2010/1721.3</font>\n",
        "<br/>Pertwee<font color=\"DarkGreen\"><u>/June 24, 2010/</u></font><font color=\"gray\">2103.8</font>"
       ],
       "metadata": {},
       "output_type": "display_data",
       "text": [
        "<IPython.core.display.HTML at 0x1023c9210>"
       ]
      }
     ],
     "prompt_number": 5
    },
    {
     "cell_type": "code",
     "collapsed": false,
     "input": [
      "%matchfile data.txt a+b"
     ],
     "language": "python",
     "metadata": {},
     "outputs": [
      {
       "html": [
        "<font color=\"purple\"><strong><em>a+b</em></strong></font>\n",
        "<br/><font color=\"gray\">xyz</font>\n",
        "<br/><font color=\"DarkGreen\"><u>aaab</u></font><font color=\"gray\">xx</font>\n",
        "<br/>x<font color=\"DarkRed\"><u>ab</u></font><font color=\"gray\">bbx</font>\n",
        "<br/>xyz<font color=\"DarkGreen\"><u>ab</u></font><font color=\"gray\"></font>\n",
        "<br/>x<font color=\"DarkRed\"><u>ab</u></font>x<font color=\"DarkGreen\"><u>ab</u></font><font color=\"gray\">x</font>\n",
        "<br/><font color=\"gray\"></font>"
       ],
       "metadata": {},
       "output_type": "display_data",
       "text": [
        "<IPython.core.display.HTML at 0x1023c9150>"
       ]
      }
     ],
     "prompt_number": 6
    }
   ],
   "metadata": {}
  }
 ]
}