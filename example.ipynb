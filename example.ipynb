{
 "metadata": {
  "name": ""
 },
 "nbformat": 3,
 "nbformat_minor": 0,
 "worksheets": [
  {
   "cells": [
    {
     "cell_type": "code",
     "collapsed": false,
     "input": [
      "%reload_ext regexmagic"
     ],
     "language": "python",
     "metadata": {},
     "outputs": [],
     "prompt_number": 50
    },
    {
     "cell_type": "code",
     "collapsed": false,
     "input": [
      "%%regex a+b\n",
      "xyz\n",
      "aaabxx\n",
      "xabbbx\n",
      "xyzab\n",
      "xabxabx"
     ],
     "language": "python",
     "metadata": {},
     "outputs": [
      {
       "html": [
        "<font color=\"green\"><strong>a+b</strong></font>\n",
        "<br/>xyz\n",
        "<br/><font color=\"red\"><u>aaab</u></font>xx\n",
        "<br/>x<font color=\"blue\"><u>ab</u></font>bbx\n",
        "<br/>xyz<font color=\"red\"><u>ab</u></font>\n",
        "<br/>x<font color=\"blue\"><u>ab</u></font>x<font color=\"red\"><u>ab</u></font>x"
       ],
       "metadata": {},
       "output_type": "pyout",
       "prompt_number": 51,
       "text": [
        "<IPython.core.display.HTML at 0x1023daad0>"
       ]
      }
     ],
     "prompt_number": 51
    },
    {
     "cell_type": "code",
     "collapsed": false,
     "input": [
      "%%regex /\\w+ \\d+, \\d+/\n",
      "Site/Date/Evil\n",
      "Davison/May 22, 2010/1721.3\n",
      "Pertwee/May 24, 2010/2103.8"
     ],
     "language": "python",
     "metadata": {},
     "outputs": [
      {
       "html": [
        "<font color=\"green\"><strong>/\\w+ \\d+, \\d+/</strong></font>\n",
        "<br/>Site/Date/Evil\n",
        "<br/>Davison<font color=\"red\"><u>/May 22, 2010/</u></font>1721.3\n",
        "<br/>Pertwee<font color=\"blue\"><u>/May 24, 2010/</u></font>2103.8"
       ],
       "metadata": {},
       "output_type": "pyout",
       "prompt_number": 52,
       "text": [
        "<IPython.core.display.HTML at 0x1023daa90>"
       ]
      }
     ],
     "prompt_number": 52
    },
    {
     "cell_type": "code",
     "collapsed": false,
     "input": [
      "%%regex /\\w{4} \\d+, \\d+/\n",
      "Site/Date/Evil\n",
      "Davison/May 22, 2010/1721.3\n",
      "Pertwee/May 24, 2010/2103.8"
     ],
     "language": "python",
     "metadata": {},
     "outputs": [
      {
       "html": [
        "<font color=\"green\"><strong>/\\w4 \\d+, \\d+/</strong></font>\n",
        "<br/>Site/Date/Evil\n",
        "<br/>Davison/May 22, 2010/1721.3\n",
        "<br/>Pertwee/May 24, 2010/2103.8"
       ],
       "metadata": {},
       "output_type": "pyout",
       "prompt_number": 53,
       "text": [
        "<IPython.core.display.HTML at 0x1023dae50>"
       ]
      }
     ],
     "prompt_number": 53
    }
   ],
   "metadata": {}
  }
 ]
}