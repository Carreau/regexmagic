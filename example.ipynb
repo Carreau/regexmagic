{
 "metadata": {
  "name": ""
 },
 "nbformat": 3,
 "nbformat_minor": 0,
 "worksheets": [
  {
   "cells": [
    {
     "cell_type": "code",
     "collapsed": false,
     "input": [
      "%reload_ext regexmagic"
     ],
     "language": "python",
     "metadata": {},
     "outputs": [],
     "prompt_number": 1
    },
    {
     "cell_type": "code",
     "collapsed": false,
     "input": [
      "%%regex a+b\n",
      "xyz\n",
      "aaabxx\n",
      "xabbbx\n",
      "xyzab\n",
      "xabxabx"
     ],
     "language": "python",
     "metadata": {},
     "outputs": [
      {
       "html": [
        "<font color=\"green\"><strong>a+b</strong></font>\n",
        "<br/>xyz\n",
        "<br/><font color=\"red\"><u>aaab</u></font>xx\n",
        "<br/>x<font color=\"blue\"><u>ab</u></font>bbx\n",
        "<br/>xyz<font color=\"red\"><u>ab</u></font>\n",
        "<br/>x<font color=\"blue\"><u>ab</u></font>x<font color=\"red\"><u>ab</u></font>x"
       ],
       "metadata": {},
       "output_type": "display_data",
       "text": [
        "<IPython.core.display.HTML at 0x1023c9150>"
       ]
      }
     ],
     "prompt_number": 2
    },
    {
     "cell_type": "code",
     "collapsed": false,
     "input": [
      "%%regex /\\w+ \\d+, \\d+/\n",
      "Site/Date/Evil\n",
      "Davison/May 22, 2010/1721.3\n",
      "Pertwee/May 24, 2010/2103.8"
     ],
     "language": "python",
     "metadata": {},
     "outputs": [
      {
       "html": [
        "<font color=\"green\"><strong>/\\w+ \\d+, \\d+/</strong></font>\n",
        "<br/>Site/Date/Evil\n",
        "<br/>Davison<font color=\"blue\"><u>/May 22, 2010/</u></font>1721.3\n",
        "<br/>Pertwee<font color=\"red\"><u>/May 24, 2010/</u></font>2103.8"
       ],
       "metadata": {},
       "output_type": "display_data",
       "text": [
        "<IPython.core.display.HTML at 0x1023c9150>"
       ]
      }
     ],
     "prompt_number": 3
    },
    {
     "cell_type": "code",
     "collapsed": false,
     "input": [
      "%%regex /\\w{{4}} \\d+, \\d+/\n",
      "Site/Date/Evil\n",
      "Davison/May 22, 2010/1721.3\n",
      "Pertwee/June 24, 2010/2103.8"
     ],
     "language": "python",
     "metadata": {},
     "outputs": [
      {
       "html": [
        "<font color=\"green\"><strong>/\\w{4} \\d+, \\d+/</strong></font>\n",
        "<br/>Site/Date/Evil\n",
        "<br/>Davison/May 22, 2010/1721.3\n",
        "<br/>Pertwee<font color=\"red\"><u>/June 24, 2010/</u></font>2103.8"
       ],
       "metadata": {},
       "output_type": "display_data",
       "text": [
        "<IPython.core.display.HTML at 0x1023c9210>"
       ]
      }
     ],
     "prompt_number": 5
    },
    {
     "cell_type": "code",
     "collapsed": false,
     "input": [],
     "language": "python",
     "metadata": {},
     "outputs": []
    }
   ],
   "metadata": {}
  }
 ]
}