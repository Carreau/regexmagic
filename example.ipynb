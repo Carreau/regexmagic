{
 "metadata": {
  "name": ""
 },
 "nbformat": 3,
 "nbformat_minor": 0,
 "worksheets": [
  {
   "cells": [
    {
     "cell_type": "code",
     "collapsed": false,
     "input": [
      "%reload_ext regexmagic"
     ],
     "language": "python",
     "metadata": {},
     "outputs": [],
     "prompt_number": 15
    },
    {
     "cell_type": "code",
     "collapsed": false,
     "input": [
      "%%matchlines a+b\n",
      "xabx"
     ],
     "language": "python",
     "metadata": {},
     "outputs": [
      {
       "html": [
        "<span style=\"color:DarkGreen; font-weight:bold; font-style:italic\">a+b</span><br/><span style=\"color:gray\">x</span><span style=\"background:Pink; font-weight:bold\">ab</span><span style=\"color:gray\">x</span>"
       ],
       "metadata": {},
       "output_type": "display_data",
       "text": [
        "<IPython.core.display.HTML at 0x10251a5d0>"
       ]
      }
     ],
     "prompt_number": 16
    },
    {
     "cell_type": "code",
     "collapsed": false,
     "input": [
      "%%matchlines a+b\n",
      "xyz\n",
      "aaabxx\n",
      "xabbbx\n",
      "xyzab\n",
      "xabxabx"
     ],
     "language": "python",
     "metadata": {},
     "outputs": [
      {
       "html": [
        "<span style=\"color:DarkGreen; font-weight:bold; font-style:italic\">a+b</span><br/><span style=\"color:gray\">xyz</span><br/><span style=\"color:gray\"></span><span style=\"background:Pink; font-weight:bold\">aaab</span><span style=\"color:gray\">xx</span><br/><span style=\"color:gray\">x</span><span style=\"background:Yellow; font-weight:bold\">ab</span><span style=\"color:gray\">bbx</span><br/><span style=\"color:gray\">xyz</span><span style=\"background:Pink; font-weight:bold\">ab</span><span style=\"color:gray\"></span><br/><span style=\"color:gray\">x</span><span style=\"background:Yellow; font-weight:bold\">ab</span><span style=\"color:gray\">x</span><span style=\"background:Pink; font-weight:bold\">ab</span><span style=\"color:gray\">x</span>"
       ],
       "metadata": {},
       "output_type": "display_data",
       "text": [
        "<IPython.core.display.HTML at 0x10251aed0>"
       ]
      }
     ],
     "prompt_number": 17
    },
    {
     "cell_type": "code",
     "collapsed": false,
     "input": [
      "%%matchlines /\\w+ \\d+, \\d+/\n",
      "Site/Date/Evil\n",
      "Davison/May 22, 2010/1721.3\n",
      "Pertwee/May 24, 2010/2103.8"
     ],
     "language": "python",
     "metadata": {},
     "outputs": [
      {
       "html": [
        "<span style=\"color:DarkGreen; font-weight:bold; font-style:italic\">/\\w+ \\d+, \\d+/</span><br/><span style=\"color:gray\">Site/Date/Evil</span><br/><span style=\"color:gray\">Davison</span><span style=\"background:Pink; font-weight:bold\">/May 22, 2010/</span><span style=\"color:gray\">1721.3</span><br/><span style=\"color:gray\">Pertwee</span><span style=\"background:Yellow; font-weight:bold\">/May 24, 2010/</span><span style=\"color:gray\">2103.8</span>"
       ],
       "metadata": {},
       "output_type": "display_data",
       "text": [
        "<IPython.core.display.HTML at 0x10251a910>"
       ]
      }
     ],
     "prompt_number": 18
    },
    {
     "cell_type": "code",
     "collapsed": false,
     "input": [
      "%%matchlines /\\w{{4}} \\d+, \\d+/\n",
      "Site/Date/Evil\n",
      "Davison/May 22, 2010/1721.3\n",
      "Pertwee/June 24, 2010/2103.8"
     ],
     "language": "python",
     "metadata": {},
     "outputs": [
      {
       "html": [
        "<span style=\"color:DarkGreen; font-weight:bold; font-style:italic\">/\\w{4} \\d+, \\d+/</span><br/><span style=\"color:gray\">Site/Date/Evil</span><br/><span style=\"color:gray\">Davison/May 22, 2010/1721.3</span><br/><span style=\"color:gray\">Pertwee</span><span style=\"background:Pink; font-weight:bold\">/June 24, 2010/</span><span style=\"color:gray\">2103.8</span>"
       ],
       "metadata": {},
       "output_type": "display_data",
       "text": [
        "<IPython.core.display.HTML at 0x10251a710>"
       ]
      }
     ],
     "prompt_number": 19
    },
    {
     "cell_type": "code",
     "collapsed": false,
     "input": [
      "!cat data.txt"
     ],
     "language": "python",
     "metadata": {},
     "outputs": [
      {
       "output_type": "stream",
       "stream": "stdout",
       "text": [
        "xyz\r\n",
        "aaabxx\r\n",
        "xabbbx\r\n",
        "xyzab\r\n",
        "xabxabx\r\n"
       ]
      }
     ],
     "prompt_number": 20
    },
    {
     "cell_type": "code",
     "collapsed": false,
     "input": [
      "%matchfile data.txt a+b"
     ],
     "language": "python",
     "metadata": {},
     "outputs": [
      {
       "html": [
        "<span style=\"color:DarkGreen; font-weight:bold; font-style:italic\">a+b</span><br/><span style=\"color:gray\">xyz</span><br/><span style=\"color:gray\"></span><span style=\"background:Pink; font-weight:bold\">aaab</span><span style=\"color:gray\">xx</span><br/><span style=\"color:gray\">x</span><span style=\"background:Yellow; font-weight:bold\">ab</span><span style=\"color:gray\">bbx</span><br/><span style=\"color:gray\">xyz</span><span style=\"background:Pink; font-weight:bold\">ab</span><span style=\"color:gray\"></span><br/><span style=\"color:gray\">x</span><span style=\"background:Yellow; font-weight:bold\">ab</span><span style=\"color:gray\">x</span><span style=\"background:Pink; font-weight:bold\">ab</span><span style=\"color:gray\">x</span><br/><span style=\"color:gray\"></span>"
       ],
       "metadata": {},
       "output_type": "display_data",
       "text": [
        "<IPython.core.display.HTML at 0x10251a5d0>"
       ]
      }
     ],
     "prompt_number": 21
    }
   ],
   "metadata": {}
  }
 ]
}