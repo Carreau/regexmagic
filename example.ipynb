{
 "metadata": {
  "name": ""
 },
 "nbformat": 3,
 "nbformat_minor": 0,
 "worksheets": [
  {
   "cells": [
    {
     "cell_type": "code",
     "collapsed": false,
     "input": [
      "%reload_ext regexmagic"
     ],
     "language": "python",
     "metadata": {},
     "outputs": [],
     "prompt_number": 16
    },
    {
     "cell_type": "code",
     "collapsed": false,
     "input": [
      "%%matchlines a+b\n",
      "xabx"
     ],
     "language": "python",
     "metadata": {},
     "outputs": [
      {
       "html": [
        "<font color=\"DarkRed\"><strong><em>a+b</em></strong></font><br/>\n",
        "<font color=\"gray\">x</font><font color=\"DarkGreen\"><u>ab</u></font><font color=\"gray\">x</font>"
       ],
       "metadata": {},
       "output_type": "display_data",
       "text": [
        "<IPython.core.display.HTML at 0x102521fd0>"
       ]
      }
     ],
     "prompt_number": 17
    },
    {
     "cell_type": "code",
     "collapsed": false,
     "input": [
      "%%matchlines a+b\n",
      "xyz\n",
      "aaabxx\n",
      "xabbbx\n",
      "xyzab\n",
      "xabxabx"
     ],
     "language": "python",
     "metadata": {},
     "outputs": [
      {
       "html": [
        "<font color=\"DarkRed\"><strong><em>a+b</em></strong></font><br/>\n",
        "<font color=\"gray\">xyz</font><br/><font color=\"gray\"></font><font color=\"DarkGreen\"><u>aaab</u></font><font color=\"gray\">xx</font><br/><font color=\"gray\">x</font><font color=\"DarkBlue\"><u>ab</u></font><font color=\"gray\">bbx</font><br/><font color=\"gray\">xyz</font><font color=\"DarkGreen\"><u>ab</u></font><font color=\"gray\"></font><br/><font color=\"gray\">x</font><font color=\"DarkBlue\"><u>ab</u></font><font color=\"gray\">x</font><font color=\"DarkGreen\"><u>ab</u></font><font color=\"gray\">x</font>"
       ],
       "metadata": {},
       "output_type": "display_data",
       "text": [
        "<IPython.core.display.HTML at 0x102518890>"
       ]
      }
     ],
     "prompt_number": 18
    },
    {
     "cell_type": "code",
     "collapsed": false,
     "input": [
      "%%matchlines /\\w+ \\d+, \\d+/\n",
      "Site/Date/Evil\n",
      "Davison/May 22, 2010/1721.3\n",
      "Pertwee/May 24, 2010/2103.8"
     ],
     "language": "python",
     "metadata": {},
     "outputs": [
      {
       "html": [
        "<font color=\"DarkRed\"><strong><em>/\\w+ \\d+, \\d+/</em></strong></font><br/>\n",
        "<font color=\"gray\">Site/Date/Evil</font><br/><font color=\"gray\">Davison</font><font color=\"DarkGreen\"><u>/May 22, 2010/</u></font><font color=\"gray\">1721.3</font><br/><font color=\"gray\">Pertwee</font><font color=\"DarkBlue\"><u>/May 24, 2010/</u></font><font color=\"gray\">2103.8</font>"
       ],
       "metadata": {},
       "output_type": "display_data",
       "text": [
        "<IPython.core.display.HTML at 0x10251a8d0>"
       ]
      }
     ],
     "prompt_number": 19
    },
    {
     "cell_type": "code",
     "collapsed": false,
     "input": [
      "%%matchlines /\\w{{4}} \\d+, \\d+/\n",
      "Site/Date/Evil\n",
      "Davison/May 22, 2010/1721.3\n",
      "Pertwee/June 24, 2010/2103.8"
     ],
     "language": "python",
     "metadata": {},
     "outputs": [
      {
       "html": [
        "<font color=\"DarkRed\"><strong><em>/\\w{4} \\d+, \\d+/</em></strong></font><br/>\n",
        "<font color=\"gray\">Site/Date/Evil</font><br/><font color=\"gray\">Davison/May 22, 2010/1721.3</font><br/><font color=\"gray\">Pertwee</font><font color=\"DarkGreen\"><u>/June 24, 2010/</u></font><font color=\"gray\">2103.8</font>"
       ],
       "metadata": {},
       "output_type": "display_data",
       "text": [
        "<IPython.core.display.HTML at 0x102533090>"
       ]
      }
     ],
     "prompt_number": 20
    },
    {
     "cell_type": "code",
     "collapsed": false,
     "input": [
      "!cat data.txt"
     ],
     "language": "python",
     "metadata": {},
     "outputs": [
      {
       "output_type": "stream",
       "stream": "stdout",
       "text": [
        "xyz\r\n",
        "aaabxx\r\n",
        "xabbbx\r\n",
        "xyzab\r\n",
        "xabxabx\r\n"
       ]
      }
     ],
     "prompt_number": 22
    },
    {
     "cell_type": "code",
     "collapsed": false,
     "input": [
      "%matchfile data.txt a+b"
     ],
     "language": "python",
     "metadata": {},
     "outputs": [
      {
       "html": [
        "<font color=\"DarkRed\"><strong><em>a+b</em></strong></font><br/>\n",
        "<font color=\"gray\">xyz</font><br/><font color=\"gray\"></font><font color=\"DarkGreen\"><u>aaab</u></font><font color=\"gray\">xx</font><br/><font color=\"gray\">x</font><font color=\"DarkBlue\"><u>ab</u></font><font color=\"gray\">bbx</font><br/><font color=\"gray\">xyz</font><font color=\"DarkGreen\"><u>ab</u></font><font color=\"gray\"></font><br/><font color=\"gray\">x</font><font color=\"DarkBlue\"><u>ab</u></font><font color=\"gray\">x</font><font color=\"DarkGreen\"><u>ab</u></font><font color=\"gray\">x</font><br/><font color=\"gray\"></font>"
       ],
       "metadata": {},
       "output_type": "display_data",
       "text": [
        "<IPython.core.display.HTML at 0x102533050>"
       ]
      }
     ],
     "prompt_number": 23
    },
    {
     "cell_type": "code",
     "collapsed": false,
     "input": [],
     "language": "python",
     "metadata": {},
     "outputs": []
    }
   ],
   "metadata": {}
  }
 ]
}