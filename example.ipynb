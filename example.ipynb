{
 "metadata": {
  "name": "",
  "signature": "sha256:c23d7904b2a8ae701ff98a3300c1df99cc973935e285cdfbd28aa56d64c31af0"
 },
 "nbformat": 3,
 "nbformat_minor": 0,
 "worksheets": [
  {
   "cells": [
    {
     "cell_type": "heading",
     "level": 1,
     "metadata": {},
     "source": [
      "Regular Expression Magic Examples"
     ]
    },
    {
     "cell_type": "markdown",
     "metadata": {},
     "source": [
      "Use `%reload_ext` to force a reload of the magic during development."
     ]
    },
    {
     "cell_type": "code",
     "collapsed": false,
     "input": [
      "%reload_ext regexmagic"
     ],
     "language": "python",
     "metadata": {},
     "outputs": [],
     "prompt_number": 1
    },
    {
     "cell_type": "heading",
     "level": 2,
     "metadata": {},
     "source": [
      "`matchlines` cell magic"
     ]
    },
    {
     "cell_type": "markdown",
     "metadata": {},
     "source": [
      "Use `%%matchlines pattern` followed by a block of text to match and colorize instances of `pattern` in that text."
     ]
    },
    {
     "cell_type": "code",
     "collapsed": false,
     "input": [
      "%%matchlines a+b\n",
      "xabx"
     ],
     "language": "python",
     "metadata": {},
     "outputs": [
      {
       "html": [
        "<span style=\"color:DarkGreen; font-weight:bold; font-style:italic;white-space: pre;\">a+b</span><br/><span style=\"color:gray;white-space: pre;\">x</span><span style=\"background:Pink; font-weight:bold;white-space: pre;\">ab</span><span style=\"color:gray;white-space: pre;\">x</span>"
       ],
       "metadata": {},
       "output_type": "display_data",
       "text": [
        "<IPython.core.display.HTML at 0x108dbad90>"
       ]
      }
     ],
     "prompt_number": 2
    },
    {
     "cell_type": "markdown",
     "metadata": {},
     "source": [
      "Match colors alternate so that adjacent matches are visually distinct."
     ]
    },
    {
     "cell_type": "code",
     "collapsed": false,
     "input": [
      "%%matchlines a+b\n",
      "xyz\n",
      "aaabxx\n",
      "xaababx\n",
      "xyzabab\n",
      "xabxabx"
     ],
     "language": "python",
     "metadata": {},
     "outputs": [
      {
       "html": [
        "<span style=\"color:DarkGreen; font-weight:bold; font-style:italic;white-space: pre;\">a+b</span><br/><span style=\"color:gray;white-space: pre;\">xyz<br/></span><span style=\"background:Pink; font-weight:bold;white-space: pre;\">aaab</span><span style=\"color:gray;white-space: pre;\">xx<br/>x</span><span style=\"background:Yellow; font-weight:bold;white-space: pre;\">aab</span><span style=\"color:gray;white-space: pre;\"></span><span style=\"background:Pink; font-weight:bold;white-space: pre;\">ab</span><span style=\"color:gray;white-space: pre;\">x<br/>xyz</span><span style=\"background:Yellow; font-weight:bold;white-space: pre;\">ab</span><span style=\"color:gray;white-space: pre;\"></span><span style=\"background:Pink; font-weight:bold;white-space: pre;\">ab</span><span style=\"color:gray;white-space: pre;\"><br/>x</span><span style=\"background:Yellow; font-weight:bold;white-space: pre;\">ab</span><span style=\"color:gray;white-space: pre;\">x</span><span style=\"background:Pink; font-weight:bold;white-space: pre;\">ab</span><span style=\"color:gray;white-space: pre;\">x</span>"
       ],
       "metadata": {},
       "output_type": "display_data",
       "text": [
        "<IPython.core.display.HTML at 0x10b15fc10>"
       ]
      }
     ],
     "prompt_number": 3
    },
    {
     "cell_type": "markdown",
     "metadata": {},
     "source": [
      "The usual backslash escapes work."
     ]
    },
    {
     "cell_type": "code",
     "collapsed": false,
     "input": [
      "%%matchlines /\\w+ \\d+, \\d+/\n",
      "Site/Date/Evil\n",
      "Davison/May 22, 2010/1721.3\n",
      "Pertwee/May 24, 2010/2103.8"
     ],
     "language": "python",
     "metadata": {},
     "outputs": [
      {
       "html": [
        "<span style=\"color:DarkGreen; font-weight:bold; font-style:italic;white-space: pre;\">/\\w+ \\d+, \\d+/</span><br/><span style=\"color:gray;white-space: pre;\">Site/Date/Evil<br/>Davison</span><span style=\"background:Pink; font-weight:bold;white-space: pre;\">/May 22, 2010/</span><span style=\"color:gray;white-space: pre;\">1721.3<br/>Pertwee</span><span style=\"background:Yellow; font-weight:bold;white-space: pre;\">/May 24, 2010/</span><span style=\"color:gray;white-space: pre;\">2103.8</span>"
       ],
       "metadata": {},
       "output_type": "display_data",
       "text": [
        "<IPython.core.display.HTML at 0x107f6dad0>"
       ]
      }
     ],
     "prompt_number": 4
    },
    {
     "cell_type": "markdown",
     "metadata": {},
     "source": [
      "However, IPython interprets `{x}` as \"expand the variable `x`\", so repetition counts like `{4}` need to be written as `{{4}}` (doubling up the curly braces)."
     ]
    },
    {
     "cell_type": "code",
     "collapsed": false,
     "input": [
      "%%matchlines /\\w{{4}} \\d+, \\d+/\n",
      "Site/Date/Evil\n",
      "Davison/May 22, 2010/1721.3\n",
      "Pertwee/June 24, 2010/2103.8"
     ],
     "language": "python",
     "metadata": {},
     "outputs": [
      {
       "html": [
        "<span style=\"color:DarkGreen; font-weight:bold; font-style:italic;white-space: pre;\">/\\w{4} \\d+, \\d+/</span><br/><span style=\"color:gray;white-space: pre;\">Site/Date/Evil<br/>Davison/May 22, 2010/1721.3<br/>Pertwee</span><span style=\"background:Pink; font-weight:bold;white-space: pre;\">/June 24, 2010/</span><span style=\"color:gray;white-space: pre;\">2103.8</span>"
       ],
       "metadata": {},
       "output_type": "display_data",
       "text": [
        "<IPython.core.display.HTML at 0x10b1671d0>"
       ]
      }
     ],
     "prompt_number": 5
    },
    {
     "cell_type": "markdown",
     "metadata": {},
     "source": [
      "Everything following the first space after the `%%matchlines` directive is part of the pattern, so it's possible to have leading and trailing spaces - just not very readable.  Also, because spaces aren't being converted to `&nbsp;` in output, leading or trailing spaces don't show up in the output display."
     ]
    },
    {
     "cell_type": "code",
     "collapsed": false,
     "input": [
      "%%matchlines  ab \n",
      "x ab x\n",
      " ab  ab x"
     ],
     "language": "python",
     "metadata": {},
     "outputs": [
      {
       "html": [
        "<span style=\"color:DarkGreen; font-weight:bold; font-style:italic;white-space: pre;\"> ab </span><br/><span style=\"color:gray;white-space: pre;\">x</span><span style=\"background:Pink; font-weight:bold;white-space: pre;\"> ab </span><span style=\"color:gray;white-space: pre;\">x<br/></span><span style=\"background:Yellow; font-weight:bold;white-space: pre;\"> ab </span><span style=\"color:gray;white-space: pre;\"></span><span style=\"background:Pink; font-weight:bold;white-space: pre;\"> ab </span><span style=\"color:gray;white-space: pre;\">x</span>"
       ],
       "metadata": {},
       "output_type": "display_data",
       "text": [
        "<IPython.core.display.HTML at 0x10b15fad0>"
       ]
      }
     ],
     "prompt_number": 6
    },
    {
     "cell_type": "heading",
     "level": 2,
     "metadata": {},
     "source": [
      "`imatchlines` cell magic"
     ]
    },
    {
     "cell_type": "code",
     "collapsed": false,
     "input": [
      "%%imatchlines\n",
      "The Zen of Python, by Tim Peters\n",
      "\n",
      "  Beautiful is better than ugly.\n",
      "  Explicit is better than implicit.\n",
      "Simple is better than complex.\n",
      "Complex is better than complicated.\n",
      "Flat is better than nested.\n",
      "Sparse is better than dense.\n",
      "Readability counts.\n",
      "Special cases aren't special enough to break the rules.\n",
      "Although practicality beats purity.\n",
      "Errors should never pass silently.\n",
      "Unless explicitly silenced.\n",
      "In the face of ambiguity, refuse the temptation to guess.\n",
      "There should be one-- and preferably only one --obvious way to do it.\n",
      "Although that way may not be obvious at first unless you're Dutch.\n",
      "Now is better than never.\n",
      "Although never is often better than *right* now.\n",
      "If the implementation is hard to explain, it's a bad idea.\n",
      "If the implementation is easy to explain, it may be a good idea.\n",
      "Namespaces are one honking great idea -- let's do more of those!"
     ],
     "language": "python",
     "metadata": {},
     "outputs": [
      {
       "html": [
        "<span style=\"color:DarkGreen; font-weight:bold; font-style:italic;white-space: pre;\">^  .*</span><br/><span style=\"color:gray;white-space: pre;\">The Zen of Python, by Tim Peters<br/><br/></span><span style=\"background:Pink; font-weight:bold;white-space: pre;\">  Beautiful is better than ugly.</span><span style=\"color:gray;white-space: pre;\"><br/></span><span style=\"background:Yellow; font-weight:bold;white-space: pre;\">  Explicit is better than implicit.</span><span style=\"color:gray;white-space: pre;\"><br/>Simple is better than complex.<br/>Complex is better than complicated.<br/>Flat is better than nested.<br/>Sparse is better than dense.<br/>Readability counts.<br/>Special cases aren't special enough to break the rules.<br/>Although practicality beats purity.<br/>Errors should never pass silently.<br/>Unless explicitly silenced.<br/>In the face of ambiguity, refuse the temptation to guess.<br/>There should be one-- and preferably only one --obvious way to do it.<br/>Although that way may not be obvious at first unless you're Dutch.<br/>Now is better than never.<br/>Although never is often better than *right* now.<br/>If the implementation is hard to explain, it's a bad idea.<br/>If the implementation is easy to explain, it may be a good idea.<br/>Namespaces are one honking great idea -- let's do more of those!</span>"
       ],
       "metadata": {},
       "output_type": "display_data",
       "text": [
        "<IPython.core.display.HTML at 0x10acb8990>"
       ]
      }
     ],
     "prompt_number": 7
    },
    {
     "cell_type": "heading",
     "level": 2,
     "metadata": {},
     "source": [
      "`matchfile` line magic"
     ]
    },
    {
     "cell_type": "markdown",
     "metadata": {},
     "source": [
      "Here's the text file used to demonstrate `%matchfile`."
     ]
    },
    {
     "cell_type": "code",
     "collapsed": false,
     "input": [
      "!cat data.txt"
     ],
     "language": "python",
     "metadata": {},
     "outputs": [
      {
       "output_type": "stream",
       "stream": "stdout",
       "text": [
        "xyz\r\n",
        "aaabxx\r\n",
        "xabbbx\r\n",
        "xyzab\r\n",
        "xabxabx\r\n"
       ]
      }
     ],
     "prompt_number": 8
    },
    {
     "cell_type": "markdown",
     "metadata": {},
     "source": [
      "And here's `%matchfile` itself - it uses the same engine as `%%matchlines`, so the only significant difference is that everything following the space after the filename is interpreted as pattern."
     ]
    },
    {
     "cell_type": "code",
     "collapsed": false,
     "input": [
      "%matchfile data.txt a+b  "
     ],
     "language": "python",
     "metadata": {},
     "outputs": [
      {
       "html": [
        "<span style=\"color:DarkGreen; font-weight:bold; font-style:italic;white-space: pre;\">a+b</span><br/><span style=\"color:gray;white-space: pre;\">xyz<br/></span><span style=\"background:Pink; font-weight:bold;white-space: pre;\">aaab</span><span style=\"color:gray;white-space: pre;\">xx<br/>x</span><span style=\"background:Yellow; font-weight:bold;white-space: pre;\">ab</span><span style=\"color:gray;white-space: pre;\">bbx<br/>xyz</span><span style=\"background:Pink; font-weight:bold;white-space: pre;\">ab</span><span style=\"color:gray;white-space: pre;\"><br/>x</span><span style=\"background:Yellow; font-weight:bold;white-space: pre;\">ab</span><span style=\"color:gray;white-space: pre;\">x</span><span style=\"background:Pink; font-weight:bold;white-space: pre;\">ab</span><span style=\"color:gray;white-space: pre;\">x<br/></span>"
       ],
       "metadata": {},
       "output_type": "display_data",
       "text": [
        "<IPython.core.display.HTML at 0x10b167e90>"
       ]
      }
     ],
     "prompt_number": 9
    },
    {
     "cell_type": "heading",
     "level": 2,
     "metadata": {},
     "source": [
      "`imatchfile` cell magic"
     ]
    },
    {
     "cell_type": "code",
     "collapsed": false,
     "input": [
      "%imatchfile data.txt"
     ],
     "language": "python",
     "metadata": {},
     "outputs": [
      {
       "html": [
        "<span style=\"color:DarkGreen; font-weight:bold; font-style:italic;white-space: pre;\">a+b+</span><br/><span style=\"color:gray;white-space: pre;\">xyz<br/></span><span style=\"background:Pink; font-weight:bold;white-space: pre;\">aaab</span><span style=\"color:gray;white-space: pre;\">xx<br/>x</span><span style=\"background:Yellow; font-weight:bold;white-space: pre;\">abbb</span><span style=\"color:gray;white-space: pre;\">x<br/>xyz</span><span style=\"background:Pink; font-weight:bold;white-space: pre;\">ab</span><span style=\"color:gray;white-space: pre;\"><br/>x</span><span style=\"background:Yellow; font-weight:bold;white-space: pre;\">ab</span><span style=\"color:gray;white-space: pre;\">x</span><span style=\"background:Pink; font-weight:bold;white-space: pre;\">ab</span><span style=\"color:gray;white-space: pre;\">x<br/></span>"
       ],
       "metadata": {},
       "output_type": "display_data",
       "text": [
        "<IPython.core.display.HTML at 0x10b15fa90>"
       ]
      }
     ],
     "prompt_number": 10
    }
   ],
   "metadata": {}
  }
 ]
}