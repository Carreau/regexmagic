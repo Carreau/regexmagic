{
 "metadata": {
  "name": ""
 },
 "nbformat": 3,
 "nbformat_minor": 0,
 "worksheets": [
  {
   "cells": [
    {
     "cell_type": "heading",
     "level": 1,
     "metadata": {},
     "source": [
      "Regular Expression Magic Examples"
     ]
    },
    {
     "cell_type": "markdown",
     "metadata": {},
     "source": [
      "Use `%reload_ext` to force a reload of the magic during development."
     ]
    },
    {
     "cell_type": "code",
     "collapsed": false,
     "input": [
      "%reload_ext regexmagic"
     ],
     "language": "python",
     "metadata": {},
     "outputs": [],
     "prompt_number": 13
    },
    {
     "cell_type": "markdown",
     "metadata": {},
     "source": [
      "Use `%%matchlines pattern` followed by a block of text to match and colorize instances of `pattern` in that text."
     ]
    },
    {
     "cell_type": "code",
     "collapsed": false,
     "input": [
      "%%matchlines a+b\n",
      "xabx"
     ],
     "language": "python",
     "metadata": {},
     "outputs": [
      {
       "html": [
        "<span style=\"color:DarkGreen; font-weight:bold; font-style:italic\">a+b</span><br/><span style=\"color:gray\">x</span><span style=\"background:Pink; font-weight:bold\">ab</span><span style=\"color:gray\">x</span>"
       ],
       "metadata": {},
       "output_type": "display_data",
       "text": [
        "<IPython.core.display.HTML at 0x10251afd0>"
       ]
      }
     ],
     "prompt_number": 14
    },
    {
     "cell_type": "markdown",
     "metadata": {},
     "source": [
      "Match colors alternate so that adjacent matches are visually distinct."
     ]
    },
    {
     "cell_type": "code",
     "collapsed": false,
     "input": [
      "%%matchlines a+b\n",
      "xyz\n",
      "aaabxx\n",
      "xaababx\n",
      "xyzabab\n",
      "xabxabx"
     ],
     "language": "python",
     "metadata": {},
     "outputs": [
      {
       "html": [
        "<span style=\"color:DarkGreen; font-weight:bold; font-style:italic\">a+b</span><br/><span style=\"color:gray\">xyz</span><br/><span style=\"color:gray\"></span><span style=\"background:Pink; font-weight:bold\">aaab</span><span style=\"color:gray\">xx</span><br/><span style=\"color:gray\">x</span><span style=\"background:Yellow; font-weight:bold\">aab</span><span style=\"color:gray\"></span><span style=\"background:Pink; font-weight:bold\">ab</span><span style=\"color:gray\">x</span><br/><span style=\"color:gray\">xyz</span><span style=\"background:Yellow; font-weight:bold\">ab</span><span style=\"color:gray\"></span><span style=\"background:Pink; font-weight:bold\">ab</span><span style=\"color:gray\"></span><br/><span style=\"color:gray\">x</span><span style=\"background:Yellow; font-weight:bold\">ab</span><span style=\"color:gray\">x</span><span style=\"background:Pink; font-weight:bold\">ab</span><span style=\"color:gray\">x</span>"
       ],
       "metadata": {},
       "output_type": "display_data",
       "text": [
        "<IPython.core.display.HTML at 0x10251af10>"
       ]
      }
     ],
     "prompt_number": 15
    },
    {
     "cell_type": "markdown",
     "metadata": {},
     "source": [
      "The usual backslash escapes work."
     ]
    },
    {
     "cell_type": "code",
     "collapsed": false,
     "input": [
      "%%matchlines /\\w+ \\d+, \\d+/\n",
      "Site/Date/Evil\n",
      "Davison/May 22, 2010/1721.3\n",
      "Pertwee/May 24, 2010/2103.8"
     ],
     "language": "python",
     "metadata": {},
     "outputs": [
      {
       "html": [
        "<span style=\"color:DarkGreen; font-weight:bold; font-style:italic\">/\\w+ \\d+, \\d+/</span><br/><span style=\"color:gray\">Site/Date/Evil</span><br/><span style=\"color:gray\">Davison</span><span style=\"background:Pink; font-weight:bold\">/May 22, 2010/</span><span style=\"color:gray\">1721.3</span><br/><span style=\"color:gray\">Pertwee</span><span style=\"background:Yellow; font-weight:bold\">/May 24, 2010/</span><span style=\"color:gray\">2103.8</span>"
       ],
       "metadata": {},
       "output_type": "display_data",
       "text": [
        "<IPython.core.display.HTML at 0x10251a650>"
       ]
      }
     ],
     "prompt_number": 16
    },
    {
     "cell_type": "markdown",
     "metadata": {},
     "source": [
      "However, IPython interprets `{x}` as \"expand the variable `x`\", so repetition counts like `{4}` need to be written as `{{4}}` (doubling up the curly braces)."
     ]
    },
    {
     "cell_type": "code",
     "collapsed": false,
     "input": [
      "%%matchlines /\\w{{4}} \\d+, \\d+/\n",
      "Site/Date/Evil\n",
      "Davison/May 22, 2010/1721.3\n",
      "Pertwee/June 24, 2010/2103.8"
     ],
     "language": "python",
     "metadata": {},
     "outputs": [
      {
       "html": [
        "<span style=\"color:DarkGreen; font-weight:bold; font-style:italic\">/\\w{4} \\d+, \\d+/</span><br/><span style=\"color:gray\">Site/Date/Evil</span><br/><span style=\"color:gray\">Davison/May 22, 2010/1721.3</span><br/><span style=\"color:gray\">Pertwee</span><span style=\"background:Pink; font-weight:bold\">/June 24, 2010/</span><span style=\"color:gray\">2103.8</span>"
       ],
       "metadata": {},
       "output_type": "display_data",
       "text": [
        "<IPython.core.display.HTML at 0x10251a910>"
       ]
      }
     ],
     "prompt_number": 17
    },
    {
     "cell_type": "markdown",
     "metadata": {},
     "source": [
      "Everything following the first space after the `%%matchlines` directive is part of the pattern, so it's possible to have leading and trailing spaces - just not very readable.  Also, because spaces aren't being converted to `&nbsp;` in output, leading or trailing spaces don't show up in the output display."
     ]
    },
    {
     "cell_type": "code",
     "collapsed": false,
     "input": [
      "%%matchlines  ab \n",
      "x ab x\n",
      " ab  ab x"
     ],
     "language": "python",
     "metadata": {},
     "outputs": [
      {
       "html": [
        "<span style=\"color:DarkGreen; font-weight:bold; font-style:italic\"> ab </span><br/><span style=\"color:gray\">x</span><span style=\"background:Pink; font-weight:bold\"> ab </span><span style=\"color:gray\">x</span><br/><span style=\"color:gray\"></span><span style=\"background:Yellow; font-weight:bold\"> ab </span><span style=\"color:gray\"></span><span style=\"background:Pink; font-weight:bold\"> ab </span><span style=\"color:gray\">x</span>"
       ],
       "metadata": {},
       "output_type": "display_data",
       "text": [
        "<IPython.core.display.HTML at 0x10251a810>"
       ]
      }
     ],
     "prompt_number": 18
    },
    {
     "cell_type": "markdown",
     "metadata": {},
     "source": [
      "Here's the text file used to demonstrate `%matchfile`."
     ]
    },
    {
     "cell_type": "code",
     "collapsed": false,
     "input": [
      "!cat data.txt"
     ],
     "language": "python",
     "metadata": {},
     "outputs": [
      {
       "output_type": "stream",
       "stream": "stdout",
       "text": [
        "xyz\r\n",
        "aaabxx\r\n",
        "xabbbx\r\n",
        "xyzab\r\n",
        "xabxabx\r\n"
       ]
      }
     ],
     "prompt_number": 19
    },
    {
     "cell_type": "markdown",
     "metadata": {},
     "source": [
      "And here's `%matchfile` itself - it uses the same engine as `%%matchlines`, so the only significant difference is that everything following the space after the filename is interpreted as pattern."
     ]
    },
    {
     "cell_type": "code",
     "collapsed": false,
     "input": [
      "%matchfile data.txt a+b"
     ],
     "language": "python",
     "metadata": {},
     "outputs": [
      {
       "html": [
        "<span style=\"color:DarkGreen; font-weight:bold; font-style:italic\">a+b</span><br/><span style=\"color:gray\">xyz</span><br/><span style=\"color:gray\"></span><span style=\"background:Pink; font-weight:bold\">aaab</span><span style=\"color:gray\">xx</span><br/><span style=\"color:gray\">x</span><span style=\"background:Yellow; font-weight:bold\">ab</span><span style=\"color:gray\">bbx</span><br/><span style=\"color:gray\">xyz</span><span style=\"background:Pink; font-weight:bold\">ab</span><span style=\"color:gray\"></span><br/><span style=\"color:gray\">x</span><span style=\"background:Yellow; font-weight:bold\">ab</span><span style=\"color:gray\">x</span><span style=\"background:Pink; font-weight:bold\">ab</span><span style=\"color:gray\">x</span><br/><span style=\"color:gray\"></span>"
       ],
       "metadata": {},
       "output_type": "display_data",
       "text": [
        "<IPython.core.display.HTML at 0x10251af10>"
       ]
      }
     ],
     "prompt_number": 20
    }
   ],
   "metadata": {}
  }
 ]
}